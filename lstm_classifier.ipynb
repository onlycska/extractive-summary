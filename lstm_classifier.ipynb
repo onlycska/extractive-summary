{
 "cells": [
  {
   "cell_type": "markdown",
   "metadata": {
    "pycharm": {
     "name": "#%% md\n"
    }
   },
   "source": [
    "### Assignment 2: Text Classification"
   ]
  },
  {
   "cell_type": "code",
   "execution_count": 1,
   "metadata": {
    "pycharm": {
     "name": "#%%\n"
    }
   },
   "outputs": [],
   "source": [
    "# %load_ext autoreload\n",
    "# %autoreload 2\n",
    "import torch\n",
    "import gc\n",
    "import pickle\n",
    "\n",
    "from random import seed\n",
    "from torch.utils.data import DataLoader\n",
    "from lstm_data_preprocessing import TextDataset\n",
    "from lstm_model import RecurrentClassifier\n",
    "from lstm_trainer import Trainer"
   ]
  },
  {
   "cell_type": "code",
   "execution_count": 2,
   "outputs": [],
   "source": [
    "seed(4)"
   ],
   "metadata": {
    "collapsed": false,
    "pycharm": {
     "name": "#%%\n"
    }
   }
  },
  {
   "cell_type": "markdown",
   "metadata": {
    "pycharm": {
     "name": "#%% md\n"
    }
   },
   "source": [
    "Toxicity, such as insults, threats and hate speech, in online conversations is a real threat to productive sharing of opinons. To mitigate this problem automatic comment filtering system may be applied.\n",
    "In this assignment you are provided with data, collected by [Jigsaw](https://jigsaw.google.com/\n",
    ") company from Wikipedia’s talk page edits. Each comment was labeled with toxicity rating from 0 to 5. Here are some examples of the least toxic comments."
   ]
  },
  {
   "cell_type": "markdown",
   "metadata": {
    "pycharm": {
     "name": "#%% md\n"
    }
   },
   "source": [
    "Then data is splitted into train and validation parts "
   ]
  },
  {
   "cell_type": "code",
   "execution_count": 3,
   "metadata": {
    "pycharm": {
     "name": "#%%\n"
    }
   },
   "outputs": [
    {
     "data": {
      "text/plain": "88"
     },
     "execution_count": 3,
     "metadata": {},
     "output_type": "execute_result"
    }
   ],
   "source": [
    "with open('data/train_cls.pkl', 'rb') as f:\n",
    "    train_texts = pickle.load(f)\n",
    "train_dataset = TextDataset([label for item in train_texts for label in item['summarized_ids']],\n",
    "                            [emb for item in train_texts for emb in item['sentences_embeddings']])\n",
    "\n",
    "del train_texts\n",
    "gc.collect()\n",
    "\n",
    "with open('data/val_cls.pkl', 'rb') as f:\n",
    "    val_texts = pickle.load(f)\n",
    "val_dataset = TextDataset([label for item in val_texts for label in item['summarized_ids']],\n",
    "                          [emb for item in val_texts for emb in item['sentences_embeddings']])\n",
    "del val_texts\n",
    "gc.collect()"
   ]
  },
  {
   "cell_type": "code",
   "execution_count": 4,
   "outputs": [
    {
     "name": "stdout",
     "output_type": "stream",
     "text": [
      "emb_matrix.shape: torch.Size([1985671, 768])\n"
     ]
    }
   ],
   "source": [
    "emb_matrix = torch.zeros((len(train_dataset.sentences_embeddings), train_dataset.sentences_embeddings[0].size(0)))\n",
    "print(f'emb_matrix.shape: {emb_matrix.size()}')\n",
    "\n",
    "for i, emb in enumerate(train_dataset.sentences_embeddings):\n",
    "    assert type(emb) == torch.Tensor, f'type of emb: {type(emb)}'\n",
    "    emb_matrix[i] = emb"
   ],
   "metadata": {
    "collapsed": false,
    "pycharm": {
     "name": "#%%\n"
    }
   }
  },
  {
   "cell_type": "markdown",
   "metadata": {
    "pycharm": {
     "name": "#%% md\n"
    }
   },
   "source": [
    "Then pretrained embeddings are obtained with Gensim - it'll automatically download them for you. [Here](https://github.com/RaRe-Technologies/gensim-data#models\n",
    ") you can see other pretrained embeddings."
   ]
  },
  {
   "cell_type": "markdown",
   "metadata": {
    "pycharm": {
     "name": "#%% md\n"
    }
   },
   "source": [
    "Now let's define hyperparameters for our baseline model. It'll be a 2-layered unidiractional LSTM"
   ]
  },
  {
   "cell_type": "code",
   "execution_count": 6,
   "metadata": {
    "pycharm": {
     "name": "#%%\n"
    }
   },
   "outputs": [],
   "source": [
    "config = {\n",
    "    \"freeze\": True,\n",
    "    \"cell_type\": \"LSTM\",\n",
    "    \"cell_dropout\": 0.5,\n",
    "    \"num_layers\": 2,\n",
    "    \"hidden_size\": 300,\n",
    "    \"out_activation\": \"tanh\",\n",
    "    \"bidirectional\": True,\n",
    "    \"out_dropout\": 0.5,\n",
    "    \"out_sizes\": [300],\n",
    "}\n",
    "\n",
    "trainer_config = {\n",
    "    \"lr\": 3e-4,\n",
    "    \"n_epochs\": 30,\n",
    "    \"weight_decay\": 1e-6,\n",
    "    \"batch_size\": 256,\n",
    "    \"device\": \"cuda\" if torch.cuda.is_available() else \"cpu\"\n",
    "}\n",
    "\n",
    "clf_model = RecurrentClassifier(config, emb_matrix)"
   ]
  },
  {
   "cell_type": "code",
   "execution_count": 7,
   "outputs": [
    {
     "name": "stdout",
     "output_type": "stream",
     "text": [
      "cpu\n"
     ]
    }
   ],
   "source": [
    "print(trainer_config['device'])"
   ],
   "metadata": {
    "collapsed": false,
    "pycharm": {
     "name": "#%%\n"
    }
   }
  },
  {
   "cell_type": "code",
   "execution_count": 8,
   "metadata": {
    "pycharm": {
     "name": "#%%\n"
    },
    "scrolled": true
   },
   "outputs": [
    {
     "name": "stdout",
     "output_type": "stream",
     "text": [
      "<torch.utils.data.dataloader.DataLoader object at 0x000001C53ECF8C10>\n",
      "<torch.utils.data.dataloader.DataLoader object at 0x000001C53ECF8280>\n",
      "<trainer.Trainer object at 0x000001C53ECF8B20>\n",
      "epoch №1\n"
     ]
    },
    {
     "data": {
      "text/plain": "  0%|          | 0/7757 [00:00<?, ?it/s]",
      "application/vnd.jupyter.widget-view+json": {
       "version_major": 2,
       "version_minor": 0,
       "model_id": "406fff33311944e48329123f48106d51"
      }
     },
     "metadata": {},
     "output_type": "display_data"
    },
    {
     "data": {
      "text/plain": "  0%|          | 0/805 [00:00<?, ?it/s]",
      "application/vnd.jupyter.widget-view+json": {
       "version_major": 2,
       "version_minor": 0,
       "model_id": "4ba589808f564dc2a3cc81cc81379b7b"
      }
     },
     "metadata": {},
     "output_type": "display_data"
    },
    {
     "name": "stdout",
     "output_type": "stream",
     "text": [
      "Loss=0.27; Acc:0.926\n",
      "epoch №2\n"
     ]
    },
    {
     "data": {
      "text/plain": "  0%|          | 0/7757 [00:00<?, ?it/s]",
      "application/vnd.jupyter.widget-view+json": {
       "version_major": 2,
       "version_minor": 0,
       "model_id": "152ad8ac789844e2a0408b5665e0591a"
      }
     },
     "metadata": {},
     "output_type": "display_data"
    },
    {
     "data": {
      "text/plain": "  0%|          | 0/805 [00:00<?, ?it/s]",
      "application/vnd.jupyter.widget-view+json": {
       "version_major": 2,
       "version_minor": 0,
       "model_id": "fd31fcfdb884461d8449025d7b36afb8"
      }
     },
     "metadata": {},
     "output_type": "display_data"
    },
    {
     "name": "stdout",
     "output_type": "stream",
     "text": [
      "Loss=0.265; Acc:0.926\n",
      "epoch №3\n"
     ]
    },
    {
     "data": {
      "text/plain": "  0%|          | 0/7757 [00:00<?, ?it/s]",
      "application/vnd.jupyter.widget-view+json": {
       "version_major": 2,
       "version_minor": 0,
       "model_id": "0d8229f5a9b1452586b2924e27db3afa"
      }
     },
     "metadata": {},
     "output_type": "display_data"
    },
    {
     "data": {
      "text/plain": "  0%|          | 0/805 [00:00<?, ?it/s]",
      "application/vnd.jupyter.widget-view+json": {
       "version_major": 2,
       "version_minor": 0,
       "model_id": "b63c942646da4015916515e184e7454d"
      }
     },
     "metadata": {},
     "output_type": "display_data"
    },
    {
     "name": "stdout",
     "output_type": "stream",
     "text": [
      "Loss=0.265; Acc:0.926\n",
      "epoch №4\n"
     ]
    },
    {
     "data": {
      "text/plain": "  0%|          | 0/7757 [00:00<?, ?it/s]",
      "application/vnd.jupyter.widget-view+json": {
       "version_major": 2,
       "version_minor": 0,
       "model_id": "aef54a49acaa4fe19769bad1af847c5c"
      }
     },
     "metadata": {},
     "output_type": "display_data"
    },
    {
     "data": {
      "text/plain": "  0%|          | 0/805 [00:00<?, ?it/s]",
      "application/vnd.jupyter.widget-view+json": {
       "version_major": 2,
       "version_minor": 0,
       "model_id": "6878576e32dc41cdb1f9617b19374db7"
      }
     },
     "metadata": {},
     "output_type": "display_data"
    },
    {
     "name": "stdout",
     "output_type": "stream",
     "text": [
      "Loss=0.265; Acc:0.926\n",
      "epoch №5\n"
     ]
    },
    {
     "data": {
      "text/plain": "  0%|          | 0/7757 [00:00<?, ?it/s]",
      "application/vnd.jupyter.widget-view+json": {
       "version_major": 2,
       "version_minor": 0,
       "model_id": "f71a14dbc3ed42f9a918aeaed16701b9"
      }
     },
     "metadata": {},
     "output_type": "display_data"
    },
    {
     "data": {
      "text/plain": "  0%|          | 0/805 [00:00<?, ?it/s]",
      "application/vnd.jupyter.widget-view+json": {
       "version_major": 2,
       "version_minor": 0,
       "model_id": "0a358889fd314bf2838dedc05583f9c2"
      }
     },
     "metadata": {},
     "output_type": "display_data"
    },
    {
     "name": "stdout",
     "output_type": "stream",
     "text": [
      "Loss=0.265; Acc:0.926\n",
      "epoch №6\n"
     ]
    },
    {
     "data": {
      "text/plain": "  0%|          | 0/7757 [00:00<?, ?it/s]",
      "application/vnd.jupyter.widget-view+json": {
       "version_major": 2,
       "version_minor": 0,
       "model_id": "d51b24a9ecd54534a19b3d21a75c5fda"
      }
     },
     "metadata": {},
     "output_type": "display_data"
    },
    {
     "data": {
      "text/plain": "  0%|          | 0/805 [00:00<?, ?it/s]",
      "application/vnd.jupyter.widget-view+json": {
       "version_major": 2,
       "version_minor": 0,
       "model_id": "b9c4c50855ed46a08ea29c3a1a8cf918"
      }
     },
     "metadata": {},
     "output_type": "display_data"
    },
    {
     "name": "stdout",
     "output_type": "stream",
     "text": [
      "Loss=0.266; Acc:0.926\n",
      "epoch №7\n"
     ]
    },
    {
     "data": {
      "text/plain": "  0%|          | 0/7757 [00:00<?, ?it/s]",
      "application/vnd.jupyter.widget-view+json": {
       "version_major": 2,
       "version_minor": 0,
       "model_id": "b28ddd9dc4114d4ca7775ed77f5867bd"
      }
     },
     "metadata": {},
     "output_type": "display_data"
    },
    {
     "data": {
      "text/plain": "  0%|          | 0/805 [00:00<?, ?it/s]",
      "application/vnd.jupyter.widget-view+json": {
       "version_major": 2,
       "version_minor": 0,
       "model_id": "88bc191dec1a4378a31a8225b35131db"
      }
     },
     "metadata": {},
     "output_type": "display_data"
    },
    {
     "name": "stdout",
     "output_type": "stream",
     "text": [
      "Loss=0.265; Acc:0.926\n",
      "epoch №8\n"
     ]
    },
    {
     "data": {
      "text/plain": "  0%|          | 0/7757 [00:00<?, ?it/s]",
      "application/vnd.jupyter.widget-view+json": {
       "version_major": 2,
       "version_minor": 0,
       "model_id": "2d4efeffacab493b8da18bedb4c3ec6b"
      }
     },
     "metadata": {},
     "output_type": "display_data"
    },
    {
     "data": {
      "text/plain": "  0%|          | 0/805 [00:00<?, ?it/s]",
      "application/vnd.jupyter.widget-view+json": {
       "version_major": 2,
       "version_minor": 0,
       "model_id": "24307d2cfb4d4c5da1ff2871246dd40f"
      }
     },
     "metadata": {},
     "output_type": "display_data"
    },
    {
     "name": "stdout",
     "output_type": "stream",
     "text": [
      "Loss=0.266; Acc:0.926\n",
      "epoch №9\n"
     ]
    },
    {
     "data": {
      "text/plain": "  0%|          | 0/7757 [00:00<?, ?it/s]",
      "application/vnd.jupyter.widget-view+json": {
       "version_major": 2,
       "version_minor": 0,
       "model_id": "077e73521835426a84b01ef895c83ef7"
      }
     },
     "metadata": {},
     "output_type": "display_data"
    },
    {
     "data": {
      "text/plain": "  0%|          | 0/805 [00:00<?, ?it/s]",
      "application/vnd.jupyter.widget-view+json": {
       "version_major": 2,
       "version_minor": 0,
       "model_id": "d42dedbd4e8f44b6bf73363700525e3e"
      }
     },
     "metadata": {},
     "output_type": "display_data"
    },
    {
     "name": "stdout",
     "output_type": "stream",
     "text": [
      "Loss=0.265; Acc:0.926\n",
      "epoch №10\n"
     ]
    },
    {
     "data": {
      "text/plain": "  0%|          | 0/7757 [00:00<?, ?it/s]",
      "application/vnd.jupyter.widget-view+json": {
       "version_major": 2,
       "version_minor": 0,
       "model_id": "3d845b0b306043feba0749b57a34aee2"
      }
     },
     "metadata": {},
     "output_type": "display_data"
    },
    {
     "data": {
      "text/plain": "  0%|          | 0/805 [00:00<?, ?it/s]",
      "application/vnd.jupyter.widget-view+json": {
       "version_major": 2,
       "version_minor": 0,
       "model_id": "366183401b844fb98f1bcb63c3499551"
      }
     },
     "metadata": {},
     "output_type": "display_data"
    },
    {
     "name": "stdout",
     "output_type": "stream",
     "text": [
      "Loss=0.265; Acc:0.926\n",
      "epoch №11\n"
     ]
    },
    {
     "data": {
      "text/plain": "  0%|          | 0/7757 [00:00<?, ?it/s]",
      "application/vnd.jupyter.widget-view+json": {
       "version_major": 2,
       "version_minor": 0,
       "model_id": "6ba431755c66490c99f3b7d551bcf53b"
      }
     },
     "metadata": {},
     "output_type": "display_data"
    },
    {
     "data": {
      "text/plain": "  0%|          | 0/805 [00:00<?, ?it/s]",
      "application/vnd.jupyter.widget-view+json": {
       "version_major": 2,
       "version_minor": 0,
       "model_id": "ea36a34936d74b2dbd7ac6ec67e1622f"
      }
     },
     "metadata": {},
     "output_type": "display_data"
    },
    {
     "name": "stdout",
     "output_type": "stream",
     "text": [
      "Loss=0.265; Acc:0.926\n",
      "epoch №12\n"
     ]
    },
    {
     "data": {
      "text/plain": "  0%|          | 0/7757 [00:00<?, ?it/s]",
      "application/vnd.jupyter.widget-view+json": {
       "version_major": 2,
       "version_minor": 0,
       "model_id": "668b7be69681488bb776e5dd183746aa"
      }
     },
     "metadata": {},
     "output_type": "display_data"
    },
    {
     "data": {
      "text/plain": "  0%|          | 0/805 [00:00<?, ?it/s]",
      "application/vnd.jupyter.widget-view+json": {
       "version_major": 2,
       "version_minor": 0,
       "model_id": "438a9468968847b2a3b15c9187b9a7e9"
      }
     },
     "metadata": {},
     "output_type": "display_data"
    },
    {
     "name": "stdout",
     "output_type": "stream",
     "text": [
      "Loss=0.266; Acc:0.926\n",
      "epoch №13\n"
     ]
    },
    {
     "data": {
      "text/plain": "  0%|          | 0/7757 [00:00<?, ?it/s]",
      "application/vnd.jupyter.widget-view+json": {
       "version_major": 2,
       "version_minor": 0,
       "model_id": "1cc8b3de16a249dd82943d332c5c3038"
      }
     },
     "metadata": {},
     "output_type": "display_data"
    },
    {
     "data": {
      "text/plain": "  0%|          | 0/805 [00:00<?, ?it/s]",
      "application/vnd.jupyter.widget-view+json": {
       "version_major": 2,
       "version_minor": 0,
       "model_id": "32ed540f31f54667b50c65dbd3999d7e"
      }
     },
     "metadata": {},
     "output_type": "display_data"
    },
    {
     "name": "stdout",
     "output_type": "stream",
     "text": [
      "Loss=0.265; Acc:0.926\n",
      "epoch №14\n"
     ]
    },
    {
     "data": {
      "text/plain": "  0%|          | 0/7757 [00:00<?, ?it/s]",
      "application/vnd.jupyter.widget-view+json": {
       "version_major": 2,
       "version_minor": 0,
       "model_id": "3df61ffd28e7415186ec1fe3ed390021"
      }
     },
     "metadata": {},
     "output_type": "display_data"
    },
    {
     "data": {
      "text/plain": "  0%|          | 0/805 [00:00<?, ?it/s]",
      "application/vnd.jupyter.widget-view+json": {
       "version_major": 2,
       "version_minor": 0,
       "model_id": "592bb9b8e214489ba6b7670a19de28a8"
      }
     },
     "metadata": {},
     "output_type": "display_data"
    },
    {
     "name": "stdout",
     "output_type": "stream",
     "text": [
      "Loss=0.265; Acc:0.926\n",
      "epoch №15\n"
     ]
    },
    {
     "data": {
      "text/plain": "  0%|          | 0/7757 [00:00<?, ?it/s]",
      "application/vnd.jupyter.widget-view+json": {
       "version_major": 2,
       "version_minor": 0,
       "model_id": "6e9dfd6b65e04c09b547a4e644c47403"
      }
     },
     "metadata": {},
     "output_type": "display_data"
    },
    {
     "data": {
      "text/plain": "  0%|          | 0/805 [00:00<?, ?it/s]",
      "application/vnd.jupyter.widget-view+json": {
       "version_major": 2,
       "version_minor": 0,
       "model_id": "9cef2a92ff4f421d9e79b5dfa0e2ef94"
      }
     },
     "metadata": {},
     "output_type": "display_data"
    },
    {
     "name": "stdout",
     "output_type": "stream",
     "text": [
      "Loss=0.265; Acc:0.926\n",
      "epoch №16\n"
     ]
    },
    {
     "data": {
      "text/plain": "  0%|          | 0/7757 [00:00<?, ?it/s]",
      "application/vnd.jupyter.widget-view+json": {
       "version_major": 2,
       "version_minor": 0,
       "model_id": "e55a59abbbe04224a081247accba2dec"
      }
     },
     "metadata": {},
     "output_type": "display_data"
    },
    {
     "data": {
      "text/plain": "  0%|          | 0/805 [00:00<?, ?it/s]",
      "application/vnd.jupyter.widget-view+json": {
       "version_major": 2,
       "version_minor": 0,
       "model_id": "0445e849e61e46aea6d722384b9ad5d7"
      }
     },
     "metadata": {},
     "output_type": "display_data"
    },
    {
     "name": "stdout",
     "output_type": "stream",
     "text": [
      "Loss=0.266; Acc:0.926\n",
      "epoch №17\n"
     ]
    },
    {
     "data": {
      "text/plain": "  0%|          | 0/7757 [00:00<?, ?it/s]",
      "application/vnd.jupyter.widget-view+json": {
       "version_major": 2,
       "version_minor": 0,
       "model_id": "4bbb80f5f3a24f029adc8a9e569a0957"
      }
     },
     "metadata": {},
     "output_type": "display_data"
    },
    {
     "data": {
      "text/plain": "  0%|          | 0/805 [00:00<?, ?it/s]",
      "application/vnd.jupyter.widget-view+json": {
       "version_major": 2,
       "version_minor": 0,
       "model_id": "bc6baf183610498780dfd33bc58d6f35"
      }
     },
     "metadata": {},
     "output_type": "display_data"
    },
    {
     "name": "stdout",
     "output_type": "stream",
     "text": [
      "Loss=0.265; Acc:0.926\n",
      "epoch №18\n"
     ]
    },
    {
     "data": {
      "text/plain": "  0%|          | 0/7757 [00:00<?, ?it/s]",
      "application/vnd.jupyter.widget-view+json": {
       "version_major": 2,
       "version_minor": 0,
       "model_id": "61f336130aa44e5ab0413fb4033dd782"
      }
     },
     "metadata": {},
     "output_type": "display_data"
    },
    {
     "data": {
      "text/plain": "  0%|          | 0/805 [00:00<?, ?it/s]",
      "application/vnd.jupyter.widget-view+json": {
       "version_major": 2,
       "version_minor": 0,
       "model_id": "7209540d426a40d084795dc8dafb7c20"
      }
     },
     "metadata": {},
     "output_type": "display_data"
    },
    {
     "name": "stdout",
     "output_type": "stream",
     "text": [
      "Loss=0.265; Acc:0.926\n",
      "epoch №19\n"
     ]
    },
    {
     "data": {
      "text/plain": "  0%|          | 0/7757 [00:00<?, ?it/s]",
      "application/vnd.jupyter.widget-view+json": {
       "version_major": 2,
       "version_minor": 0,
       "model_id": "6fccb5e076f74cb7a5d0b4996f4e7d8d"
      }
     },
     "metadata": {},
     "output_type": "display_data"
    },
    {
     "data": {
      "text/plain": "  0%|          | 0/805 [00:00<?, ?it/s]",
      "application/vnd.jupyter.widget-view+json": {
       "version_major": 2,
       "version_minor": 0,
       "model_id": "c01866258ffa4aafa294d810b37d0158"
      }
     },
     "metadata": {},
     "output_type": "display_data"
    },
    {
     "name": "stdout",
     "output_type": "stream",
     "text": [
      "Loss=0.266; Acc:0.926\n",
      "epoch №20\n"
     ]
    },
    {
     "data": {
      "text/plain": "  0%|          | 0/7757 [00:00<?, ?it/s]",
      "application/vnd.jupyter.widget-view+json": {
       "version_major": 2,
       "version_minor": 0,
       "model_id": "3384722fb5db4638a7c6e6ba03109cb0"
      }
     },
     "metadata": {},
     "output_type": "display_data"
    },
    {
     "data": {
      "text/plain": "  0%|          | 0/805 [00:00<?, ?it/s]",
      "application/vnd.jupyter.widget-view+json": {
       "version_major": 2,
       "version_minor": 0,
       "model_id": "50223a6fe6c2461d9aca0ef94c93fdbd"
      }
     },
     "metadata": {},
     "output_type": "display_data"
    },
    {
     "name": "stdout",
     "output_type": "stream",
     "text": [
      "Loss=0.265; Acc:0.926\n",
      "epoch №21\n"
     ]
    },
    {
     "data": {
      "text/plain": "  0%|          | 0/7757 [00:00<?, ?it/s]",
      "application/vnd.jupyter.widget-view+json": {
       "version_major": 2,
       "version_minor": 0,
       "model_id": "bdb1bfbae8414871bd9d2fc9096c82fe"
      }
     },
     "metadata": {},
     "output_type": "display_data"
    },
    {
     "data": {
      "text/plain": "  0%|          | 0/805 [00:00<?, ?it/s]",
      "application/vnd.jupyter.widget-view+json": {
       "version_major": 2,
       "version_minor": 0,
       "model_id": "beb0c9795a0f413a9f56bdcc6906abfb"
      }
     },
     "metadata": {},
     "output_type": "display_data"
    },
    {
     "name": "stdout",
     "output_type": "stream",
     "text": [
      "Loss=0.265; Acc:0.926\n",
      "epoch №22\n"
     ]
    },
    {
     "data": {
      "text/plain": "  0%|          | 0/7757 [00:00<?, ?it/s]",
      "application/vnd.jupyter.widget-view+json": {
       "version_major": 2,
       "version_minor": 0,
       "model_id": "32f693e6bb6e470f8a61ec2b58f68914"
      }
     },
     "metadata": {},
     "output_type": "display_data"
    },
    {
     "data": {
      "text/plain": "  0%|          | 0/805 [00:00<?, ?it/s]",
      "application/vnd.jupyter.widget-view+json": {
       "version_major": 2,
       "version_minor": 0,
       "model_id": "dd85b3a3af6b4b4ea1f79a28d8e244fc"
      }
     },
     "metadata": {},
     "output_type": "display_data"
    },
    {
     "name": "stdout",
     "output_type": "stream",
     "text": [
      "Loss=0.266; Acc:0.926\n",
      "epoch №23\n"
     ]
    },
    {
     "data": {
      "text/plain": "  0%|          | 0/7757 [00:00<?, ?it/s]",
      "application/vnd.jupyter.widget-view+json": {
       "version_major": 2,
       "version_minor": 0,
       "model_id": "dc2dbc5181304a378b4c9340492a5a4d"
      }
     },
     "metadata": {},
     "output_type": "display_data"
    },
    {
     "data": {
      "text/plain": "  0%|          | 0/805 [00:00<?, ?it/s]",
      "application/vnd.jupyter.widget-view+json": {
       "version_major": 2,
       "version_minor": 0,
       "model_id": "1cc1c66c8ded44f19f13603643faf561"
      }
     },
     "metadata": {},
     "output_type": "display_data"
    },
    {
     "name": "stdout",
     "output_type": "stream",
     "text": [
      "Loss=0.265; Acc:0.926\n",
      "epoch №24\n"
     ]
    },
    {
     "data": {
      "text/plain": "  0%|          | 0/7757 [00:00<?, ?it/s]",
      "application/vnd.jupyter.widget-view+json": {
       "version_major": 2,
       "version_minor": 0,
       "model_id": "4f7ddeda376e4df3a43afa500e4ca152"
      }
     },
     "metadata": {},
     "output_type": "display_data"
    },
    {
     "data": {
      "text/plain": "  0%|          | 0/805 [00:00<?, ?it/s]",
      "application/vnd.jupyter.widget-view+json": {
       "version_major": 2,
       "version_minor": 0,
       "model_id": "1d1481236d8248758ad7352a0b399d97"
      }
     },
     "metadata": {},
     "output_type": "display_data"
    },
    {
     "name": "stdout",
     "output_type": "stream",
     "text": [
      "Loss=0.265; Acc:0.926\n",
      "epoch №25\n"
     ]
    },
    {
     "data": {
      "text/plain": "  0%|          | 0/7757 [00:00<?, ?it/s]",
      "application/vnd.jupyter.widget-view+json": {
       "version_major": 2,
       "version_minor": 0,
       "model_id": "161220ba7324434ea7092248466bb4c2"
      }
     },
     "metadata": {},
     "output_type": "display_data"
    },
    {
     "data": {
      "text/plain": "  0%|          | 0/805 [00:00<?, ?it/s]",
      "application/vnd.jupyter.widget-view+json": {
       "version_major": 2,
       "version_minor": 0,
       "model_id": "b479104f61004ba69cf68674e9b4118f"
      }
     },
     "metadata": {},
     "output_type": "display_data"
    },
    {
     "name": "stdout",
     "output_type": "stream",
     "text": [
      "Loss=0.265; Acc:0.926\n",
      "epoch №26\n"
     ]
    },
    {
     "data": {
      "text/plain": "  0%|          | 0/7757 [00:00<?, ?it/s]",
      "application/vnd.jupyter.widget-view+json": {
       "version_major": 2,
       "version_minor": 0,
       "model_id": "eb722b96bf854d33af094c1970078c46"
      }
     },
     "metadata": {},
     "output_type": "display_data"
    },
    {
     "data": {
      "text/plain": "  0%|          | 0/805 [00:00<?, ?it/s]",
      "application/vnd.jupyter.widget-view+json": {
       "version_major": 2,
       "version_minor": 0,
       "model_id": "a2cbfb2aaed1474f920f7f6e32750972"
      }
     },
     "metadata": {},
     "output_type": "display_data"
    },
    {
     "name": "stdout",
     "output_type": "stream",
     "text": [
      "Loss=0.265; Acc:0.926\n",
      "epoch №27\n"
     ]
    },
    {
     "data": {
      "text/plain": "  0%|          | 0/7757 [00:00<?, ?it/s]",
      "application/vnd.jupyter.widget-view+json": {
       "version_major": 2,
       "version_minor": 0,
       "model_id": "565e1e5b1ec6408ba84990b6653d3bc4"
      }
     },
     "metadata": {},
     "output_type": "display_data"
    },
    {
     "data": {
      "text/plain": "  0%|          | 0/805 [00:00<?, ?it/s]",
      "application/vnd.jupyter.widget-view+json": {
       "version_major": 2,
       "version_minor": 0,
       "model_id": "225795c2d84846fb857f2e519da92a28"
      }
     },
     "metadata": {},
     "output_type": "display_data"
    },
    {
     "name": "stdout",
     "output_type": "stream",
     "text": [
      "Loss=0.265; Acc:0.926\n",
      "epoch №28\n"
     ]
    },
    {
     "data": {
      "text/plain": "  0%|          | 0/7757 [00:00<?, ?it/s]",
      "application/vnd.jupyter.widget-view+json": {
       "version_major": 2,
       "version_minor": 0,
       "model_id": "9125dcd2de124e25bd1513288f26975a"
      }
     },
     "metadata": {},
     "output_type": "display_data"
    },
    {
     "data": {
      "text/plain": "  0%|          | 0/805 [00:00<?, ?it/s]",
      "application/vnd.jupyter.widget-view+json": {
       "version_major": 2,
       "version_minor": 0,
       "model_id": "0273d8b73d1646c8bfa390cc77ef22c2"
      }
     },
     "metadata": {},
     "output_type": "display_data"
    },
    {
     "name": "stdout",
     "output_type": "stream",
     "text": [
      "Loss=0.265; Acc:0.926\n",
      "epoch №29\n"
     ]
    },
    {
     "data": {
      "text/plain": "  0%|          | 0/7757 [00:00<?, ?it/s]",
      "application/vnd.jupyter.widget-view+json": {
       "version_major": 2,
       "version_minor": 0,
       "model_id": "c21cdebb090344dfa50e7dc8c54f83a5"
      }
     },
     "metadata": {},
     "output_type": "display_data"
    },
    {
     "data": {
      "text/plain": "  0%|          | 0/805 [00:00<?, ?it/s]",
      "application/vnd.jupyter.widget-view+json": {
       "version_major": 2,
       "version_minor": 0,
       "model_id": "43ee8e923bdd40f2b6ac136f5ce75636"
      }
     },
     "metadata": {},
     "output_type": "display_data"
    },
    {
     "name": "stdout",
     "output_type": "stream",
     "text": [
      "Loss=0.265; Acc:0.926\n",
      "epoch №30\n"
     ]
    },
    {
     "data": {
      "text/plain": "  0%|          | 0/7757 [00:00<?, ?it/s]",
      "application/vnd.jupyter.widget-view+json": {
       "version_major": 2,
       "version_minor": 0,
       "model_id": "57f1df6c50db4036a963c6a6efd99eb3"
      }
     },
     "metadata": {},
     "output_type": "display_data"
    },
    {
     "data": {
      "text/plain": "  0%|          | 0/805 [00:00<?, ?it/s]",
      "application/vnd.jupyter.widget-view+json": {
       "version_major": 2,
       "version_minor": 0,
       "model_id": "682baa57b7004f358ec1ff17f17ec3a2"
      }
     },
     "metadata": {},
     "output_type": "display_data"
    },
    {
     "name": "stdout",
     "output_type": "stream",
     "text": [
      "Loss=0.265; Acc:0.926\n"
     ]
    },
    {
     "data": {
      "text/plain": "RecurrentClassifier(\n  (cell): LSTM(768, 300, num_layers=2, batch_first=True, dropout=0.5, bidirectional=True)\n  (out_dropout): Dropout(p=0.5, inplace=False)\n  (out_proj): Sequential(\n    (0): Linear(in_features=1200, out_features=300, bias=True)\n    (1): Linear(in_features=300, out_features=2, bias=True)\n  )\n)"
     },
     "execution_count": 8,
     "metadata": {},
     "output_type": "execute_result"
    }
   ],
   "source": [
    "train_dataloader = DataLoader(train_dataset, \n",
    "                              batch_size=trainer_config[\"batch_size\"],\n",
    "                              shuffle=True,\n",
    "                              num_workers=2,\n",
    "                              collate_fn=train_dataset.collate_fn)\n",
    "print(train_dataloader)\n",
    "val_dataloader = DataLoader(val_dataset, \n",
    "                            batch_size=trainer_config[\"batch_size\"],\n",
    "                            shuffle=False,\n",
    "                            num_workers=2,\n",
    "                            collate_fn=val_dataset.collate_fn)\n",
    "print(val_dataloader)\n",
    "t = Trainer(trainer_config)\n",
    "print(t)\n",
    "t.fit(clf_model, train_dataloader, val_dataloader)"
   ]
  }
 ],
 "metadata": {
  "kernelspec": {
   "display_name": "Python 3",
   "language": "python",
   "name": "python3"
  },
  "language_info": {
   "codemirror_mode": {
    "name": "ipython",
    "version": 3
   },
   "file_extension": ".py",
   "mimetype": "text/x-python",
   "name": "python",
   "nbconvert_exporter": "python",
   "pygments_lexer": "ipython3",
   "version": "3.7.4"
  }
 },
 "nbformat": 4,
 "nbformat_minor": 1
}